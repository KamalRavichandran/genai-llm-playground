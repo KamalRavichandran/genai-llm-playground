{
  "nbformat": 4,
  "nbformat_minor": 0,
  "metadata": {
    "colab": {
      "provenance": [],
      "toc_visible": true,
      "authorship_tag": "ABX9TyOjoEKLhB9k9LK9Znjk9IK6",
      "include_colab_link": true
    },
    "kernelspec": {
      "name": "python3",
      "display_name": "Python 3"
    },
    "language_info": {
      "name": "python"
    }
  },
  "cells": [
    {
      "cell_type": "markdown",
      "metadata": {
        "id": "view-in-github",
        "colab_type": "text"
      },
      "source": [
        "<a href=\"https://colab.research.google.com/github/KamalRavichandran/genai-llm-playground/blob/main/01-openai-api-starter/openai-starter.ipynb\" target=\"_parent\"><img src=\"https://colab.research.google.com/assets/colab-badge.svg\" alt=\"Open In Colab\"/></a>"
      ]
    },
    {
      "cell_type": "markdown",
      "source": [
        "# OpenAI Starter"
      ],
      "metadata": {
        "id": "4yu2VmR4rkNj"
      }
    },
    {
      "cell_type": "markdown",
      "source": [
        "## Install and upgrade openai package"
      ],
      "metadata": {
        "id": "6OYNgnTIu3CB"
      }
    },
    {
      "cell_type": "code",
      "execution_count": 1,
      "metadata": {
        "colab": {
          "base_uri": "https://localhost:8080/"
        },
        "collapsed": true,
        "id": "v5NR_8F6V3wq",
        "outputId": "66bc8a93-cf9b-4d4d-e9ca-03d7dffe2333"
      },
      "outputs": [
        {
          "output_type": "stream",
          "name": "stdout",
          "text": [
            "Collecting openai\n",
            "  Downloading openai-1.30.4-py3-none-any.whl (320 kB)\n",
            "\u001b[2K     \u001b[90m━━━━━━━━━━━━━━━━━━━━━━━━━━━━━━━━━━━━━━━━\u001b[0m \u001b[32m320.6/320.6 kB\u001b[0m \u001b[31m2.6 MB/s\u001b[0m eta \u001b[36m0:00:00\u001b[0m\n",
            "\u001b[?25hRequirement already satisfied: anyio<5,>=3.5.0 in /usr/local/lib/python3.10/dist-packages (from openai) (3.7.1)\n",
            "Requirement already satisfied: distro<2,>=1.7.0 in /usr/lib/python3/dist-packages (from openai) (1.7.0)\n",
            "Collecting httpx<1,>=0.23.0 (from openai)\n",
            "  Downloading httpx-0.27.0-py3-none-any.whl (75 kB)\n",
            "\u001b[2K     \u001b[90m━━━━━━━━━━━━━━━━━━━━━━━━━━━━━━━━━━━━━━━━\u001b[0m \u001b[32m75.6/75.6 kB\u001b[0m \u001b[31m8.5 MB/s\u001b[0m eta \u001b[36m0:00:00\u001b[0m\n",
            "\u001b[?25hRequirement already satisfied: pydantic<3,>=1.9.0 in /usr/local/lib/python3.10/dist-packages (from openai) (2.7.1)\n",
            "Requirement already satisfied: sniffio in /usr/local/lib/python3.10/dist-packages (from openai) (1.3.1)\n",
            "Requirement already satisfied: tqdm>4 in /usr/local/lib/python3.10/dist-packages (from openai) (4.66.4)\n",
            "Requirement already satisfied: typing-extensions<5,>=4.7 in /usr/local/lib/python3.10/dist-packages (from openai) (4.11.0)\n",
            "Requirement already satisfied: idna>=2.8 in /usr/local/lib/python3.10/dist-packages (from anyio<5,>=3.5.0->openai) (3.7)\n",
            "Requirement already satisfied: exceptiongroup in /usr/local/lib/python3.10/dist-packages (from anyio<5,>=3.5.0->openai) (1.2.1)\n",
            "Requirement already satisfied: certifi in /usr/local/lib/python3.10/dist-packages (from httpx<1,>=0.23.0->openai) (2024.2.2)\n",
            "Collecting httpcore==1.* (from httpx<1,>=0.23.0->openai)\n",
            "  Downloading httpcore-1.0.5-py3-none-any.whl (77 kB)\n",
            "\u001b[2K     \u001b[90m━━━━━━━━━━━━━━━━━━━━━━━━━━━━━━━━━━━━━━━━\u001b[0m \u001b[32m77.9/77.9 kB\u001b[0m \u001b[31m6.2 MB/s\u001b[0m eta \u001b[36m0:00:00\u001b[0m\n",
            "\u001b[?25hCollecting h11<0.15,>=0.13 (from httpcore==1.*->httpx<1,>=0.23.0->openai)\n",
            "  Downloading h11-0.14.0-py3-none-any.whl (58 kB)\n",
            "\u001b[2K     \u001b[90m━━━━━━━━━━━━━━━━━━━━━━━━━━━━━━━━━━━━━━━━\u001b[0m \u001b[32m58.3/58.3 kB\u001b[0m \u001b[31m7.1 MB/s\u001b[0m eta \u001b[36m0:00:00\u001b[0m\n",
            "\u001b[?25hRequirement already satisfied: annotated-types>=0.4.0 in /usr/local/lib/python3.10/dist-packages (from pydantic<3,>=1.9.0->openai) (0.7.0)\n",
            "Requirement already satisfied: pydantic-core==2.18.2 in /usr/local/lib/python3.10/dist-packages (from pydantic<3,>=1.9.0->openai) (2.18.2)\n",
            "Installing collected packages: h11, httpcore, httpx, openai\n",
            "Successfully installed h11-0.14.0 httpcore-1.0.5 httpx-0.27.0 openai-1.30.4\n"
          ]
        }
      ],
      "source": [
        "%pip install --upgrade openai"
      ]
    },
    {
      "cell_type": "markdown",
      "source": [
        "## Import the libraries"
      ],
      "metadata": {
        "id": "nh5RzlqFvDl5"
      }
    },
    {
      "cell_type": "code",
      "source": [
        "from openai import OpenAI\n",
        "import os"
      ],
      "metadata": {
        "id": "3Dj76hz_ZXtA"
      },
      "execution_count": 2,
      "outputs": []
    },
    {
      "cell_type": "markdown",
      "source": [
        "## Set OpenAI API Key"
      ],
      "metadata": {
        "id": "RnBUDQeQvSC-"
      }
    },
    {
      "cell_type": "code",
      "source": [
        "client = OpenAI(api_key=os.environ.get(\"OPENAI_API_KEY\", \"YOUR-OPENAI-API-KEY\"))"
      ],
      "metadata": {
        "id": "6T853DmPwmqR"
      },
      "execution_count": 3,
      "outputs": []
    },
    {
      "cell_type": "markdown",
      "source": [
        "## Set the OpenAI model to be used\n",
        "* \"gpt-4o\" - GPT-4o (“o” for “omni”) is OpenAI's most advanced model. It is multimodal (accepting text or image inputs and outputting text), and it has the same high intelligence as GPT-4 Turbo but is much more efficient—it generates text 2x faster and is 50% cheaper.\n",
        "* \"gpt-4-turbo\" - GPT-4 is a large multimodal model (accepting text or image inputs and outputting text) that can solve difficult problems with greater accuracy than any of the previous models.\n",
        "* \"gpt-3.5-turbo\" - GPT-3.5 Turbo models can understand and generate natural language or code and have been optimized for chat using the Chat Completions API but work well for non-chat tasks as well."
      ],
      "metadata": {
        "id": "nN4_wLQcwpiu"
      }
    },
    {
      "cell_type": "code",
      "source": [
        "MODEL = \"gpt-3.5-turbo\""
      ],
      "metadata": {
        "id": "XNN1HFxwyvBA"
      },
      "execution_count": 4,
      "outputs": []
    },
    {
      "cell_type": "markdown",
      "source": [
        "## Invoke the API call\n",
        "* model - set the model to be used\n",
        "* messages - a list of message objects, where each object has two required fields, role and content\n",
        "* temperature - this param controls the randomness of the generated text. A higher temperature will make the output more random, while a lower temperature will make it more focused and deterministic"
      ],
      "metadata": {
        "id": "5-Krr161WVAc"
      }
    },
    {
      "cell_type": "code",
      "source": [
        "response = client.chat.completions.create(\n",
        "    model=MODEL,\n",
        "    messages=[\n",
        "        {\"role\": \"system\", \"content\": \"You are a helpful assistant.\"}, # set role as system and content as what exactly is required from it\n",
        "        {\"role\": \"user\", \"content\": \"Explain the evolution of AI\"}, # set role as user and fill in the prompt content which is required to be answered\n",
        "    ],\n",
        "    temperature=0,\n",
        "\n",
        ")"
      ],
      "metadata": {
        "id": "YuFSNb74Z79e"
      },
      "execution_count": 5,
      "outputs": []
    },
    {
      "cell_type": "markdown",
      "source": [
        "## Print the OpenAI API response"
      ],
      "metadata": {
        "id": "p6GoXV57XSnN"
      }
    },
    {
      "cell_type": "code",
      "source": [
        "print(response.choices[0].message.content)"
      ],
      "metadata": {
        "colab": {
          "base_uri": "https://localhost:8080/"
        },
        "id": "yo8l35mbaKgY",
        "outputId": "1075a626-a1c5-4b6c-996c-ee00f2831402"
      },
      "execution_count": 6,
      "outputs": [
        {
          "output_type": "stream",
          "name": "stdout",
          "text": [
            "The evolution of artificial intelligence (AI) can be traced back to the mid-20th century when the term was first coined. Here is a brief overview of the key milestones in the evolution of AI:\n",
            "\n",
            "1. **Early Foundations (1950s-1960s):** The field of AI was officially born in the 1950s, with the work of pioneers like Alan Turing, John McCarthy, and Marvin Minsky. This era saw the development of early AI programs, such as the Logic Theorist and the General Problem Solver.\n",
            "\n",
            "2. **Symbolic AI (1960s-1970s):** During this period, AI researchers focused on symbolic AI, which involved the use of symbolic representations and logic to mimic human reasoning. Expert systems, which used rules to simulate human expertise in specific domains, were a prominent development during this time.\n",
            "\n",
            "3. **Connectionism and Neural Networks (1980s-1990s):** The 1980s saw a shift towards connectionism and neural networks, inspired by the way the human brain processes information. This led to the development of neural network models and the resurgence of interest in machine learning techniques.\n",
            "\n",
            "4. **Machine Learning and Big Data (2000s-2010s):** The 2000s marked a significant advancement in AI, driven by the availability of large datasets and powerful computational resources. Machine learning algorithms, such as deep learning, became increasingly popular and led to breakthroughs in areas like computer vision, natural language processing, and speech recognition.\n",
            "\n",
            "5. **Current Trends (2020s and beyond):** In recent years, AI has continued to evolve rapidly, with advancements in areas like reinforcement learning, generative adversarial networks, and AI ethics. There is also a growing focus on AI applications in diverse fields, including healthcare, finance, and autonomous vehicles.\n",
            "\n",
            "Overall, the evolution of AI has been characterized by a combination of theoretical advances, technological breakthroughs, and increasing real-world applications. As AI continues to evolve, researchers are exploring new frontiers in AI research and working towards developing more intelligent and autonomous systems.\n"
          ]
        }
      ]
    }
  ]
}