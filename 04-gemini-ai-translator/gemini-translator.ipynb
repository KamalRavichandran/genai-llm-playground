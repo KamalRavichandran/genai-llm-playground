{
  "cells": [
    {
      "cell_type": "markdown",
      "metadata": {
        "colab_type": "text",
        "id": "view-in-github"
      },
      "source": [
        "<a href=\"https://colab.research.google.com/github/KamalRavichandran/genai-llm-playground/blob/main/04-gemini-ai-translator/gemini-translator.ipynb\" target=\"_parent\"><img src=\"https://colab.research.google.com/assets/colab-badge.svg\" alt=\"Open In Colab\"/></a>"
      ]
    },
    {
      "cell_type": "markdown",
      "metadata": {
        "id": "4yu2VmR4rkNj"
      },
      "source": [
        "# Gemini AI Translator"
      ]
    },
    {
      "cell_type": "markdown",
      "metadata": {
        "id": "6OYNgnTIu3CB"
      },
      "source": [
        "## Install and upgrade google-generativeai package"
      ]
    },
    {
      "cell_type": "code",
      "execution_count": null,
      "metadata": {
        "collapsed": true,
        "id": "v5NR_8F6V3wq"
      },
      "outputs": [],
      "source": [
        "%pip install -q -U google-generativeai"
      ]
    },
    {
      "cell_type": "markdown",
      "metadata": {
        "id": "nh5RzlqFvDl5"
      },
      "source": [
        "## Import the libraries"
      ]
    },
    {
      "cell_type": "code",
      "execution_count": null,
      "metadata": {
        "id": "3Dj76hz_ZXtA"
      },
      "outputs": [],
      "source": [
        "import os\n",
        "import google.generativeai as genai"
      ]
    },
    {
      "cell_type": "markdown",
      "metadata": {
        "id": "RnBUDQeQvSC-"
      },
      "source": [
        "## Set Gemini API Key"
      ]
    },
    {
      "cell_type": "code",
      "execution_count": null,
      "metadata": {
        "id": "6T853DmPwmqR"
      },
      "outputs": [],
      "source": [
        "genai.configure(api_key=os.environ.get(\"GOOGLE_API_KEY\", \"YOUR-GEMINI-API-KEY\"))"
      ]
    },
    {
      "cell_type": "markdown",
      "metadata": {
        "id": "nN4_wLQcwpiu"
      },
      "source": [
        "## Set the Gemini AI model to be used\n",
        "* \"gemini-1.5-flash\" - Gemini's fastest multimodal model with great performance for diverse, repetitive tasks and a 1 million context window. Fast and versatile performance across a diverse variety of tasks.\n",
        "* \"gemini-1.5-pro\" - Gemini's next-generation model with a breakthrough 1 million context window. Suitable for complex reasoning tasks such as code and text generation, text editing, problem solving, data extraction and generation.\n",
        "* \"gemini-1.0-pro\" - Gemini's first generation model offering only text and image reasoning. Suitable for natural language tasks, multi-turn text and code chat, and code generation."
      ]
    },
    {
      "cell_type": "code",
      "execution_count": null,
      "metadata": {
        "id": "XNN1HFxwyvBA"
      },
      "outputs": [],
      "source": [
        "MODEL = \"gemini-1.5-flash\""
      ]
    },
    {
      "cell_type": "markdown",
      "metadata": {
        "id": "5-Krr161WVAc"
      },
      "source": [
        "## Initialize the generative model and generate text"
      ]
    },
    {
      "cell_type": "code",
      "execution_count": null,
      "metadata": {
        "id": "YuFSNb74Z79e"
      },
      "outputs": [],
      "source": [
        "model = genai.GenerativeModel(MODEL)\n",
        "response = model.generate_content(\"Translate to English - Le climat de la planète change constamment et a naturellement évolué au fil du temps. Mais beaucoup de scientifiques s'inquiètent du fait que cela change beaucoup plus que cela ne le ferait naturellement, à cause des effets de l'homme. Le changement climatique (ou dérèglement climatique) est maintenant largement reconnu comme le principal problème environnemental auquel la planète est confrontée. Il est essentiel de lutter contre ce phénomène pour préserver notre environnement et notre avenir.\")"
      ]
    },
    {
      "cell_type": "markdown",
      "metadata": {
        "id": "p6GoXV57XSnN"
      },
      "source": [
        "## Print the Gemini AI response"
      ]
    },
    {
      "cell_type": "code",
      "execution_count": null,
      "metadata": {
        "id": "yo8l35mbaKgY"
      },
      "outputs": [],
      "source": [
        "print(response.text)"
      ]
    }
  ],
  "metadata": {
    "colab": {
      "include_colab_link": true,
      "provenance": [],
      "toc_visible": true
    },
    "kernelspec": {
      "display_name": "Python 3",
      "name": "python3"
    },
    "language_info": {
      "name": "python",
      "version": "3.12.0"
    }
  },
  "nbformat": 4,
  "nbformat_minor": 0
}
