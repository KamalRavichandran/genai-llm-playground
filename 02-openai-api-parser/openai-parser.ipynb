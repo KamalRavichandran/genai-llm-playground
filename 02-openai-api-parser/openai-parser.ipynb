{
  "cells": [
    {
      "cell_type": "markdown",
      "metadata": {
        "colab_type": "text",
        "id": "view-in-github"
      },
      "source": [
        "<a href=\"https://colab.research.google.com/github/KamalRavichandran/genai-llm-playground/blob/main/02-openai-api-parser/openai-parser.ipynb\" target=\"_parent\"><img src=\"https://colab.research.google.com/assets/colab-badge.svg\" alt=\"Open In Colab\"/></a>"
      ]
    },
    {
      "cell_type": "markdown",
      "metadata": {
        "id": "4yu2VmR4rkNj"
      },
      "source": [
        "# OpenAI parser"
      ]
    },
    {
      "cell_type": "markdown",
      "metadata": {
        "id": "6OYNgnTIu3CB"
      },
      "source": [
        "## Install and upgrade openai package"
      ]
    },
    {
      "cell_type": "code",
      "execution_count": null,
      "metadata": {
        "colab": {
          "base_uri": "https://localhost:8080/"
        },
        "collapsed": true,
        "id": "v5NR_8F6V3wq",
        "outputId": "25761af8-c117-4c06-db8f-859c2eb15bc9"
      },
      "outputs": [],
      "source": [
        "%pip install --upgrade openai"
      ]
    },
    {
      "cell_type": "markdown",
      "metadata": {
        "id": "nh5RzlqFvDl5"
      },
      "source": [
        "## Import the libraries"
      ]
    },
    {
      "cell_type": "code",
      "execution_count": null,
      "metadata": {
        "id": "3Dj76hz_ZXtA"
      },
      "outputs": [],
      "source": [
        "import os\n",
        "from openai import OpenAI"
      ]
    },
    {
      "cell_type": "markdown",
      "metadata": {
        "id": "RnBUDQeQvSC-"
      },
      "source": [
        "## Set OpenAI API Key"
      ]
    },
    {
      "cell_type": "code",
      "execution_count": null,
      "metadata": {
        "id": "6T853DmPwmqR"
      },
      "outputs": [],
      "source": [
        "client = OpenAI(api_key=os.environ.get(\"OPENAI_API_KEY\", \"YOUR-OPENAI-API-KEY\"))"
      ]
    },
    {
      "cell_type": "markdown",
      "metadata": {
        "id": "nN4_wLQcwpiu"
      },
      "source": [
        "## Set the OpenAI model to be used\n",
        "* \"gpt-4o\" - GPT-4o (“o” for “omni”) is OpenAI's most advanced model. It is multimodal (accepting text or image inputs and outputting text), and it has the same high intelligence as GPT-4 Turbo but is much more efficient—it generates text 2x faster and is 50% cheaper.\n",
        "* \"gpt-4-turbo\" - GPT-4 is a large multimodal model (accepting text or image inputs and outputting text) that can solve difficult problems with greater accuracy than any of the previous models.\n",
        "* \"gpt-3.5-turbo\" - GPT-3.5 Turbo models can understand and generate natural language or code and have been optimized for chat using the Chat Completions API but work well for non-chat tasks as well."
      ]
    },
    {
      "cell_type": "code",
      "execution_count": null,
      "metadata": {
        "id": "XNN1HFxwyvBA"
      },
      "outputs": [],
      "source": [
        "MODEL = \"gpt-3.5-turbo\""
      ]
    },
    {
      "cell_type": "markdown",
      "metadata": {
        "id": "5-Krr161WVAc"
      },
      "source": [
        "## Invoke the API call\n",
        "* model - set the model to be used\n",
        "* messages - a list of message objects, where each object has two required fields, role and content\n",
        "* temperature - this param controls the randomness of the generated text. A higher temperature will make the output more random, while a lower temperature will make it more focused and deterministic"
      ]
    },
    {
      "cell_type": "code",
      "execution_count": null,
      "metadata": {
        "id": "YuFSNb74Z79e"
      },
      "outputs": [],
      "source": [
        "response = client.chat.completions.create(\n",
        "    model=MODEL,\n",
        "    # set response format as json_object\n",
        "    response_format={\"type\": \"json_object\"},\n",
        "    messages=[\n",
        "        {\n",
        "            # set role as system and content as what exactly is required from it\n",
        "            \"role\": \"system\",\n",
        "            \"content\": \"\"\"You will be provided with unstructured data, and your task is to parse it into JSON output. \n",
        "             Include Fruit name, color and taste properties\"\"\",\n",
        "        },\n",
        "        {\n",
        "            # set role as user and fill in the prompt content which is required to be answered\n",
        "            \"role\": \"user\",\n",
        "            \"content\": \"\"\"There are many fruits that were found on the recently discovered planet Goocrux. \n",
        "            There are neoskizzles that grow there, which are purple and taste like candy. \n",
        "            There are also loheckles, which are a grayish blue fruit and are very tart, a little bit like a lemon. \n",
        "            Pounits are a bright green color and are more savory than sweet. \n",
        "            There are also plenty of loopnovas which are a neon pink flavor and taste like cotton candy. \n",
        "            Finally, there are fruits called glowls, which have a very sour and bitter taste which is acidic and caustic, \n",
        "            and a pale orange tinge to them.\"\"\",\n",
        "        },\n",
        "    ],\n",
        "    temperature=0.7,\n",
        ")"
      ]
    },
    {
      "cell_type": "markdown",
      "metadata": {
        "id": "p6GoXV57XSnN"
      },
      "source": [
        "## Print the OpenAI API response"
      ]
    },
    {
      "cell_type": "code",
      "execution_count": null,
      "metadata": {
        "colab": {
          "base_uri": "https://localhost:8080/"
        },
        "id": "yo8l35mbaKgY",
        "outputId": "b63c538b-2621-4c24-9891-9ac3884fb7ed"
      },
      "outputs": [],
      "source": [
        "print(response.choices[0].message.content)"
      ]
    }
  ],
  "metadata": {
    "colab": {
      "include_colab_link": true,
      "provenance": [],
      "toc_visible": true
    },
    "kernelspec": {
      "display_name": "Python 3",
      "name": "python3"
    },
    "language_info": {
      "codemirror_mode": {
        "name": "ipython",
        "version": 3
      },
      "file_extension": ".py",
      "mimetype": "text/x-python",
      "name": "python",
      "nbconvert_exporter": "python",
      "pygments_lexer": "ipython3",
      "version": "3.12.0"
    }
  },
  "nbformat": 4,
  "nbformat_minor": 0
}
