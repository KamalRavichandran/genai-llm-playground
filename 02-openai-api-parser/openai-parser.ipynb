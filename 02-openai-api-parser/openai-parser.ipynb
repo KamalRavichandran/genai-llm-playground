{
  "cells": [
    {
      "cell_type": "markdown",
      "metadata": {
        "id": "view-in-github",
        "colab_type": "text"
      },
      "source": [
        "<a href=\"https://colab.research.google.com/github/KamalRavichandran/genai-llm-playground/blob/main/02-openai-api-parser/openai-parser.ipynb\" target=\"_parent\"><img src=\"https://colab.research.google.com/assets/colab-badge.svg\" alt=\"Open In Colab\"/></a>"
      ]
    },
    {
      "cell_type": "markdown",
      "metadata": {
        "id": "4yu2VmR4rkNj"
      },
      "source": [
        "# OpenAI parser"
      ]
    },
    {
      "cell_type": "markdown",
      "metadata": {
        "id": "6OYNgnTIu3CB"
      },
      "source": [
        "## Install and upgrade openai package"
      ]
    },
    {
      "cell_type": "code",
      "execution_count": 14,
      "metadata": {
        "colab": {
          "base_uri": "https://localhost:8080/"
        },
        "collapsed": true,
        "id": "v5NR_8F6V3wq",
        "outputId": "25761af8-c117-4c06-db8f-859c2eb15bc9"
      },
      "outputs": [
        {
          "output_type": "stream",
          "name": "stdout",
          "text": [
            "Requirement already satisfied: openai in /usr/local/lib/python3.10/dist-packages (1.32.0)\n",
            "Requirement already satisfied: anyio<5,>=3.5.0 in /usr/local/lib/python3.10/dist-packages (from openai) (3.7.1)\n",
            "Requirement already satisfied: distro<2,>=1.7.0 in /usr/lib/python3/dist-packages (from openai) (1.7.0)\n",
            "Requirement already satisfied: httpx<1,>=0.23.0 in /usr/local/lib/python3.10/dist-packages (from openai) (0.27.0)\n",
            "Requirement already satisfied: pydantic<3,>=1.9.0 in /usr/local/lib/python3.10/dist-packages (from openai) (2.7.3)\n",
            "Requirement already satisfied: sniffio in /usr/local/lib/python3.10/dist-packages (from openai) (1.3.1)\n",
            "Requirement already satisfied: tqdm>4 in /usr/local/lib/python3.10/dist-packages (from openai) (4.66.4)\n",
            "Requirement already satisfied: typing-extensions<5,>=4.7 in /usr/local/lib/python3.10/dist-packages (from openai) (4.12.1)\n",
            "Requirement already satisfied: idna>=2.8 in /usr/local/lib/python3.10/dist-packages (from anyio<5,>=3.5.0->openai) (3.7)\n",
            "Requirement already satisfied: exceptiongroup in /usr/local/lib/python3.10/dist-packages (from anyio<5,>=3.5.0->openai) (1.2.1)\n",
            "Requirement already satisfied: certifi in /usr/local/lib/python3.10/dist-packages (from httpx<1,>=0.23.0->openai) (2024.6.2)\n",
            "Requirement already satisfied: httpcore==1.* in /usr/local/lib/python3.10/dist-packages (from httpx<1,>=0.23.0->openai) (1.0.5)\n",
            "Requirement already satisfied: h11<0.15,>=0.13 in /usr/local/lib/python3.10/dist-packages (from httpcore==1.*->httpx<1,>=0.23.0->openai) (0.14.0)\n",
            "Requirement already satisfied: annotated-types>=0.4.0 in /usr/local/lib/python3.10/dist-packages (from pydantic<3,>=1.9.0->openai) (0.7.0)\n",
            "Requirement already satisfied: pydantic-core==2.18.4 in /usr/local/lib/python3.10/dist-packages (from pydantic<3,>=1.9.0->openai) (2.18.4)\n"
          ]
        }
      ],
      "source": [
        "%pip install --upgrade openai"
      ]
    },
    {
      "cell_type": "markdown",
      "metadata": {
        "id": "nh5RzlqFvDl5"
      },
      "source": [
        "## Import the libraries"
      ]
    },
    {
      "cell_type": "code",
      "execution_count": 15,
      "metadata": {
        "id": "3Dj76hz_ZXtA"
      },
      "outputs": [],
      "source": [
        "import os\n",
        "from openai import OpenAI"
      ]
    },
    {
      "cell_type": "markdown",
      "metadata": {
        "id": "RnBUDQeQvSC-"
      },
      "source": [
        "## Set OpenAI API Key"
      ]
    },
    {
      "cell_type": "code",
      "execution_count": 16,
      "metadata": {
        "id": "6T853DmPwmqR"
      },
      "outputs": [],
      "source": [
        "client = OpenAI(api_key=os.environ.get(\"OPENAI_API_KEY\", \"YOUR-OPENAI-API-KEY\"))"
      ]
    },
    {
      "cell_type": "markdown",
      "metadata": {
        "id": "nN4_wLQcwpiu"
      },
      "source": [
        "## Set the OpenAI model to be used\n",
        "* \"gpt-4o\" - GPT-4o (“o” for “omni”) is OpenAI's most advanced model. It is multimodal (accepting text or image inputs and outputting text), and it has the same high intelligence as GPT-4 Turbo but is much more efficient—it generates text 2x faster and is 50% cheaper.\n",
        "* \"gpt-4-turbo\" - GPT-4 is a large multimodal model (accepting text or image inputs and outputting text) that can solve difficult problems with greater accuracy than any of the previous models.\n",
        "* \"gpt-3.5-turbo\" - GPT-3.5 Turbo models can understand and generate natural language or code and have been optimized for chat using the Chat Completions API but work well for non-chat tasks as well."
      ]
    },
    {
      "cell_type": "code",
      "execution_count": 17,
      "metadata": {
        "id": "XNN1HFxwyvBA"
      },
      "outputs": [],
      "source": [
        "MODEL = \"gpt-3.5-turbo\""
      ]
    },
    {
      "cell_type": "markdown",
      "metadata": {
        "id": "5-Krr161WVAc"
      },
      "source": [
        "## Invoke the API call\n",
        "* model - set the model to be used\n",
        "* messages - a list of message objects, where each object has two required fields, role and content\n",
        "* temperature - this param controls the randomness of the generated text. A higher temperature will make the output more random, while a lower temperature will make it more focused and deterministic"
      ]
    },
    {
      "cell_type": "code",
      "execution_count": 18,
      "metadata": {
        "id": "YuFSNb74Z79e"
      },
      "outputs": [],
      "source": [
        "response = client.chat.completions.create(\n",
        "    model=MODEL,\n",
        "    response_format={ \"type\": \"json_object\" },\n",
        "    messages=[\n",
        "        {\"role\": \"system\", \"content\": \"You will be provided with unstructured data, and your task is to parse it into JSON output. Include Fruit name, color and taste properties\"}, # set role as system and content as what exactly is required from it\n",
        "        {\"role\": \"user\", \"content\": \"There are many fruits that were found on the recently discovered planet Goocrux. There are neoskizzles that grow there, which are purple and taste like candy. There are also loheckles, which are a grayish blue fruit and are very tart, a little bit like a lemon. Pounits are a bright green color and are more savory than sweet. There are also plenty of loopnovas which are a neon pink flavor and taste like cotton candy. Finally, there are fruits called glowls, which have a very sour and bitter taste which is acidic and caustic, and a pale orange tinge to them.\"}, # set role as user and fill in the prompt content which is required to be answered\n",
        "    ],\n",
        "    temperature=0.7,\n",
        "\n",
        ")"
      ]
    },
    {
      "cell_type": "markdown",
      "metadata": {
        "id": "p6GoXV57XSnN"
      },
      "source": [
        "## Print the OpenAI API response"
      ]
    },
    {
      "cell_type": "code",
      "execution_count": 19,
      "metadata": {
        "colab": {
          "base_uri": "https://localhost:8080/"
        },
        "id": "yo8l35mbaKgY",
        "outputId": "b63c538b-2621-4c24-9891-9ac3884fb7ed"
      },
      "outputs": [
        {
          "output_type": "stream",
          "name": "stdout",
          "text": [
            "{\n",
            "  \"fruits\": [\n",
            "    {\n",
            "      \"name\": \"neoskizzles\",\n",
            "      \"color\": \"purple\",\n",
            "      \"taste\": \"candy\"\n",
            "    },\n",
            "    {\n",
            "      \"name\": \"loheckles\",\n",
            "      \"color\": \"grayish blue\",\n",
            "      \"taste\": \"tart, a little bit like a lemon\"\n",
            "    },\n",
            "    {\n",
            "      \"name\": \"pounits\",\n",
            "      \"color\": \"bright green\",\n",
            "      \"taste\": \"savory\"\n",
            "    },\n",
            "    {\n",
            "      \"name\": \"loopnovas\",\n",
            "      \"color\": \"neon pink\",\n",
            "      \"taste\": \"cotton candy\"\n",
            "    },\n",
            "    {\n",
            "      \"name\": \"glowls\",\n",
            "      \"color\": \"pale orange\",\n",
            "      \"taste\": \"sour, bitter, acidic, caustic\"\n",
            "    }\n",
            "  ]\n",
            "}\n"
          ]
        }
      ],
      "source": [
        "print(response.choices[0].message.content)"
      ]
    }
  ],
  "metadata": {
    "colab": {
      "provenance": [],
      "toc_visible": true,
      "include_colab_link": true
    },
    "kernelspec": {
      "display_name": "Python 3",
      "name": "python3"
    },
    "language_info": {
      "name": "python",
      "version": "3.12.0"
    }
  },
  "nbformat": 4,
  "nbformat_minor": 0
}